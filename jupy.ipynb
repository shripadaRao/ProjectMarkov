{
 "cells": [
  {
   "cell_type": "code",
   "execution_count": 11,
   "metadata": {},
   "outputs": [],
   "source": [
    "import pandas as pd\n",
    "import numpy as np"
   ]
  },
  {
   "cell_type": "code",
   "execution_count": 12,
   "metadata": {},
   "outputs": [],
   "source": [
    "import numpy"
   ]
  },
  {
   "cell_type": "code",
   "execution_count": 13,
   "metadata": {},
   "outputs": [],
   "source": [
    "filepath1 = \"/home/shripad/Projects/ProjectMarkov/storage/lpt_main_raw.csv\"\n",
    "first_file = pd.read_csv(filepath1)"
   ]
  },
  {
   "cell_type": "code",
   "execution_count": 14,
   "metadata": {},
   "outputs": [],
   "source": [
    "second_file = pd.read_csv(\"/home/shripad/Projects/ProjectMarkov/storage/ulpt_main_raw.csv\")\n"
   ]
  },
  {
   "cell_type": "code",
   "execution_count": 15,
   "metadata": {},
   "outputs": [],
   "source": [
    "second_file_drop = second_file.drop('a',axis=1)"
   ]
  },
  {
   "cell_type": "code",
   "execution_count": 16,
   "metadata": {},
   "outputs": [],
   "source": [
    "first_file_drop = first_file.drop('a',axis=1)"
   ]
  },
  {
   "cell_type": "code",
   "execution_count": 17,
   "metadata": {},
   "outputs": [
    {
     "data": {
      "text/plain": [
       "<bound method DataFrame.info of                                                     b\n",
       "0   ULPT: Look up your buildings washer/dryer mode...\n",
       "1   ULPT: If the person sitting in front of you on...\n",
       "2   ULPT: If a relative keeps asking you about hav...\n",
       "3   ULPT: Save business cards of people you don't ...\n",
       "4   ULPT: Give your kids a bag of coal each for Ch...\n",
       "..                                                ...\n",
       "94  ULPT:when going for interview make your 2 or 3...\n",
       "95  ULPT: Need a phone and/or cash? Volunteer to c...\n",
       "96  ULPT: Take your student ID card with you every...\n",
       "97  ULPT: Own a coffee shop and need to boost your...\n",
       "98  ULPT: When going for a new job, tell them you ...\n",
       "\n",
       "[99 rows x 1 columns]>"
      ]
     },
     "execution_count": 17,
     "metadata": {},
     "output_type": "execute_result"
    }
   ],
   "source": [
    "second_file_drop.info"
   ]
  },
  {
   "cell_type": "code",
   "execution_count": 18,
   "metadata": {},
   "outputs": [
    {
     "data": {
      "text/plain": [
       "<bound method DataFrame.info of                                                     b\n",
       "0   LPT: Texans, you are about to experience the w...\n",
       "1   LPT: If you want a smarter kid, teach your chi...\n",
       "2   LPT: When you sign up for anything online, put...\n",
       "3   LPT: Always tell a child who is wearing a helm...\n",
       "4   LPT: Don't be fooled by the \"working for a dre...\n",
       "..                                                ...\n",
       "94  LPT: To all young teenagers looking for their ...\n",
       "95  LPT: It only takes about 2-3 weeks of clicking...\n",
       "96  LPT: Don't answer those social media posts lik...\n",
       "97  LPT: Be careful when badmouthing and gossiping...\n",
       "98  LPT: When sharing your opinion on subjective t...\n",
       "\n",
       "[99 rows x 1 columns]>"
      ]
     },
     "execution_count": 18,
     "metadata": {},
     "output_type": "execute_result"
    }
   ],
   "source": [
    "first_file_drop.info"
   ]
  },
  {
   "cell_type": "code",
   "execution_count": 26,
   "metadata": {},
   "outputs": [],
   "source": [
    "merge_csv = pd.merge(first_file_drop,second_file_drop,on='b',how= 'outer')"
   ]
  },
  {
   "cell_type": "code",
   "execution_count": 27,
   "metadata": {},
   "outputs": [
    {
     "data": {
      "text/plain": [
       "<bound method NDFrame.head of                                                      b\n",
       "0    LPT: Texans, you are about to experience the w...\n",
       "1    LPT: If you want a smarter kid, teach your chi...\n",
       "2    LPT: When you sign up for anything online, put...\n",
       "3    LPT: Always tell a child who is wearing a helm...\n",
       "4    LPT: Don't be fooled by the \"working for a dre...\n",
       "..                                                 ...\n",
       "193  ULPT:when going for interview make your 2 or 3...\n",
       "194  ULPT: Need a phone and/or cash? Volunteer to c...\n",
       "195  ULPT: Take your student ID card with you every...\n",
       "196  ULPT: Own a coffee shop and need to boost your...\n",
       "197  ULPT: When going for a new job, tell them you ...\n",
       "\n",
       "[198 rows x 1 columns]>"
      ]
     },
     "execution_count": 27,
     "metadata": {},
     "output_type": "execute_result"
    }
   ],
   "source": [
    "merge_csv.head"
   ]
  },
  {
   "cell_type": "code",
   "execution_count": 28,
   "metadata": {},
   "outputs": [
    {
     "name": "stdout",
     "output_type": "stream",
     "text": [
      "                                                     b\n",
      "0    LPT: Texans, you are about to experience the w...\n",
      "1    LPT: If you want a smarter kid, teach your chi...\n",
      "2    LPT: When you sign up for anything online, put...\n",
      "3    LPT: Always tell a child who is wearing a helm...\n",
      "4    LPT: Don't be fooled by the \"working for a dre...\n",
      "..                                                 ...\n",
      "193  ULPT:when going for interview make your 2 or 3...\n",
      "194  ULPT: Need a phone and/or cash? Volunteer to c...\n",
      "195  ULPT: Take your student ID card with you every...\n",
      "196  ULPT: Own a coffee shop and need to boost your...\n",
      "197  ULPT: When going for a new job, tell them you ...\n",
      "\n",
      "[198 rows x 1 columns]\n"
     ]
    }
   ],
   "source": [
    "print(merge_csv)"
   ]
  },
  {
   "cell_type": "code",
   "execution_count": 29,
   "metadata": {},
   "outputs": [],
   "source": [
    "merge_csv.to_csv(\"merge_file.csv\")"
   ]
  },
  {
   "cell_type": "code",
   "execution_count": null,
   "metadata": {},
   "outputs": [],
   "source": []
  }
 ],
 "metadata": {
  "interpreter": {
   "hash": "31f2aee4e71d21fbe5cf8b01ff0e069b9275f58929596ceb00d14d90e3e16cd6"
  },
  "kernelspec": {
   "display_name": "Python 3",
   "language": "python",
   "name": "python3"
  },
  "language_info": {
   "codemirror_mode": {
    "name": "ipython",
    "version": 3
   },
   "file_extension": ".py",
   "mimetype": "text/x-python",
   "name": "python",
   "nbconvert_exporter": "python",
   "pygments_lexer": "ipython3",
   "version": "3.8.10"
  }
 },
 "nbformat": 4,
 "nbformat_minor": 2
}
